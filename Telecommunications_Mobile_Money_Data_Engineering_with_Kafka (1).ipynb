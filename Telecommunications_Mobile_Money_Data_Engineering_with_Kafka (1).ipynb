{
  "nbformat": 4,
  "nbformat_minor": 0,
  "metadata": {
    "colab": {
      "provenance": []
    },
    "kernelspec": {
      "name": "python3",
      "display_name": "Python 3"
    },
    "language_info": {
      "name": "python"
    }
  },
  "cells": [
    {
      "cell_type": "code",
      "source": [
        "!pip install confluent-kafka"
      ],
      "metadata": {
        "colab": {
          "base_uri": "https://localhost:8080/"
        },
        "id": "r7WopoeQ6ceu",
        "outputId": "b00d4778-b80f-436a-c38d-129d45f12046"
      },
      "execution_count": null,
      "outputs": [
        {
          "output_type": "stream",
          "name": "stdout",
          "text": [
            "Looking in indexes: https://pypi.org/simple, https://us-python.pkg.dev/colab-wheels/public/simple/\n",
            "Requirement already satisfied: confluent-kafka in /usr/local/lib/python3.10/dist-packages (2.1.1)\n"
          ]
        }
      ]
    },
    {
      "cell_type": "code",
      "source": [
        "\n",
        "from confluent_kafka import Producer\n",
        "import json\n",
        "\n",
        "# Set up Kafka producer\n",
        "conf = {\n",
        "    'bootstrap.servers': 'pkc-6ojv2.us-west4.gcp.confluent.cloud:9092',\n",
        "    'security.protocol': 'SASL_SSL',\n",
        "    'sasl.mechanism': 'PLAIN',\n",
        "    'sasl.username': 'GSKWOLGSBIT2DN3G',\n",
        "    'sasl.password': '9wFirHpNbd/gyUiC5y1c5q8BDg6nZ1eQWyOeCZ6iPLNt9xgY4nIcNwZwKGH2nuxo',\n",
        "    'group.id': 'mobile-transactions'\n",
        "}\n",
        "\n",
        "producer = Producer(conf)\n",
        "\n",
        "# Define the topic to which the producer will send messages\n",
        "topic = 'topic_0'\n",
        "\n",
        "# Load the dummy JSON data\n",
        "data = {\n",
        "    \"transaction_id\": \"12345\",\n",
        "    \"sender_phone_number\": \"256777123456\",\n",
        "    \"receiver_phone_number\": \"256772987654\",\n",
        "    \"transaction_amount\": 100000,\n",
        "    \"transaction_time\": \"2023-04-19 12:00:00\"\n",
        "}\n",
        "\n",
        "# Send the JSON data as a message to the Kafka cluster\n",
        "producer.produce(topic, value=json.dumps(data).encode('utf-8'))\n",
        "\n",
        "# Flush the producer to ensure that all messages are sent\n",
        "producer.flush()\n",
        "\n"
      ],
      "metadata": {
        "colab": {
          "base_uri": "https://localhost:8080/"
        },
        "id": "4auHPWrL4x71",
        "outputId": "55bbc615-701f-4200-e146-2967a024234b"
      },
      "execution_count": null,
      "outputs": [
        {
          "output_type": "execute_result",
          "data": {
            "text/plain": [
              "0"
            ]
          },
          "metadata": {},
          "execution_count": 5
        }
      ]
    }
  ]
}